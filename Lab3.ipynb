{
 "cells": [
  {
   "cell_type": "markdown",
   "metadata": {
    "id": "O4N_EaD6qK27"
   },
   "source": [
    "# RSA\n",
    "\n",
    "Rivest Shamir Adleman (RSA) jest jednym z pierwszych algorytmów asymetrycznych. Został zaprojektowany w 1977 roku i jest używany do dzisiejszego dnia. Zyskał akceptację zarówno NISTu jak i organizacji ISO/IEC oraz RFC. RSA posiada parę kluczy - publiczny oraz prywatny. Publiczny klucz może być znany każdemu i służy on do operacji szyfrowania. Klucz prywatny jest znany tylko i wyłącznie instancji, która klucze generowała. Ta sama instancja jako jedna jedyna ma możliwość odszyfrowania kryptogramów.\n",
    "\n",
    "RSA umożliwia także tworzenie podpisów cyfrowych (z ang *Digital Signatures*, czyli *DS*). Podpis cyfrowy to dodatkowy blok informacji dołączony do wiadomości, który zapewnia:\n",
    "1. *Integrity* - integralność wiadomości, czyli potwierdzenie, że nie była ona w żaden sposób modyfikowana.\n",
    "2. *Authentication* - autentykacje podpisującego, czyli potwierdzenie jego tożsamości.\n",
    "3. *Non-repudiation* - czyli wysyłający podpisaną wiadomość nie ma możliwości zaprzeczenia faktu, że to on ją podpisał, natomiast otrzymujący wiadomość nie ma możliwości zaprzeczenia faktu, iż to on ją zweryfikował. \n",
    "\n",
    "Samo haszowanie wiadomości zapewnia tylko *integirty*, natomiast utworzenie kodu MAC (*Message Authentiaction Code*) zapewnia jedynie *integrity* oraz *authentiaction*.\n",
    "\n",
    "Tworzenie podpisu cyfrowego z wykorzystaniem RSA wygląda odwrotnie niż komunikacja szyfrowana. To znaczy: podpis tworzony jest z wykorzystaniem klucza prywatnego - a więc tylko instancja generująca klucze może wiadomość podpisać. Weryfikacja odbywa się z wykorzystaniem klucza publicznego - czyli każda instancja, której nasz klucz udostępnimy, może podpis zweryfikować. \n",
    "\n",
    "Na początek zaimportujmy niezbędne biblioteki."
   ]
  },
  {
   "cell_type": "code",
   "execution_count": 1,
   "metadata": {
    "id": "F7OxWY2Mz7BD"
   },
   "outputs": [
    {
     "name": "stdout",
     "output_type": "stream",
     "text": [
      "Requirement already satisfied: pycryptodome in /Users/mwojnar/main-venv/lib/python3.9/site-packages (3.17)\r\n"
     ]
    }
   ],
   "source": [
    "!pip install pycryptodome\n",
    "import Crypto.Util.number as cu\n",
    "import hashlib as hl\n",
    "import math"
   ]
  },
  {
   "cell_type": "markdown",
   "metadata": {
    "id": "64vuvjiEuP3M"
   },
   "source": [
    "**Zadanie 1**\n",
    "\n",
    "Odpowiedz na poniższe pytania. Rozważ sytuację, w której dwie instancje komunikują się ze sobą, a trzecia próbuje dokonywać nieautoryzowanych zmian w treści wiadomości na drodze jej przesyłu.\n",
    "1. Dlaczego haszowanie zapewnia tylko integrity? Podpowiedź: czy haszowanie uwzględnia jakikolwiek klucz prywatny?\n",
    "2. Dlaczego kod MAC nie zapewnia *non-repudiation*? Co (niepożądanego) może dokonać odbierający wiadomość i atakujący komunikację? Podpowiedź: czy kody MAC, w szczególności popularny kod HMAC - który zakłada użycie klucza prywatnego - w jakikolwiek sposób weryfikuje KTO i DO CZEGO go użył? Kto dysponuje, a kto NIE dysponuje kluczem prywatnym HMAC?\n",
    "3. Dlaczego podpis cyfrowy zapewnia wszystkie te trzy cechy?"
   ]
  },
  {
   "cell_type": "markdown",
   "metadata": {
    "id": "2qE7Uzp2xXKM"
   },
   "source": [
    "## Generowanie kluczy\n",
    "\n",
    "Algorytm generowania kluczy RSA może zostać przedstawiony w następujący sposób:\n",
    "\n",
    "1) Znajdź dwie różne i kryptograficznie bezpieczne liczby pierwsze.\n",
    "\n",
    "2) Oblicz $n = p * q$.\n",
    "\n",
    "3) Oblicz $f = (p - 1) * (q - 1)$.\n",
    "\n",
    "4) Znajdź dowolne $e$, takie, że $1 < e < f$ oraz $GCD(f, e) = 1$. GCD to największy wspólny dzielnik. Para $(e, n)$ to jest **klucz publiczny**.\n",
    "\n",
    "5) Oblicz $d = e^{-1}$ mod $f$. Para $(d, n)$ to **klucz prywatny**, przy czym tajne jest tylko $d$. "
   ]
  },
  {
   "cell_type": "markdown",
   "metadata": {
    "id": "1MRcuBhC0UHA"
   },
   "source": [
    "W ten sposób generowane parametry byłyby matematycznie poprawne, lecz kryptograficznie niebezpieczne. Ustalmy więc, że chcemy aby nasz klucz publiczny był odpwowiednio długi. Będzie to długość bitowa parametru $n$, oznaczmy ją jako $nlen = 2048$. Parametr $nlen$ zawsze przyjmuje parzyste wartości. Mając to założenie, musimy (**uwzględniając wszystkie założenia z algorytmu generowania kluczy**) dodatkowo zapewnić, że:\n",
    "\n",
    "1. $65537 ≤ e < 2^{256}$\n",
    "2. $LCM(p - 1, q - 1) \\geq e * 2^{nlen/2}$\n",
    "3. $2^{(nlen - 1)//2} < p < 2^{nlen/2}$\n",
    "4. $2^{(nlen - 1)//2} < q < 2^{nlen/2}$\n",
    "5. $|p - q| > 2^{(nlen/2) - 100}$\n",
    "\n",
    "Gdzie LCM oznacza *Least Common Multiple*, czyli najmniejszą wspólną wielokrotność. Funkcję LCM znajdziesz w bibliotece math. Do potęgowania **nie używaj** pythonowej notacji \"**\", tylko metody pow() - przetestuj obie te metody obliczania potęgi i porównaj wydajność (zadanie opcjonalne). Do obliczania wartości bezwzględnej użyj metody abs() - również standardowa metoda pythona. Resztę niezbędnych metod znajdziesz w bibliotece [Crypto.Util.number](https://pycryptodome.readthedocs.io/en/latest/src/util/util.html) zaimpoertowanej jako cu. Opis powyższych założeń możesz znaleźć w [tym](https://nvlpubs.nist.gov/nistpubs/SpecialPublications/NIST.SP.800-56Br2.pdf) dokumencie NIST-owym."
   ]
  },
  {
   "cell_type": "markdown",
   "metadata": {
    "id": "5inlXTklGGMv"
   },
   "source": [
    "**Zadanie 2**\n",
    "\n",
    "Uwzględniając wszystko powyższe, napisz metodę/metody generujące wartości $n$, $e$ oraz $d$."
   ]
  },
  {
   "cell_type": "code",
   "execution_count": 2,
   "metadata": {
    "id": "tRiOWsS7GRL9"
   },
   "outputs": [],
   "source": [
    "def generate_key(nlen=2048):\n",
    "    cond_1 = 1 << ((nlen - 1) // 2)\n",
    "    cond_2 = 1 << (nlen // 2)\n",
    "    cond_3 = 1 << (nlen // 2 - 100)\n",
    "\n",
    "    e = 65537\n",
    "\n",
    "    while True:\n",
    "        p = cu.getPrime(nlen // 2)\n",
    "        q = cu.getPrime(nlen // 2)\n",
    "\n",
    "        if abs(p - q) > cond_3 and cond_1 < p < cond_2 and cond_1 < q < cond_2 and math.lcm(p - 1, q - 1) >= e * cond_2:\n",
    "            break\n",
    "\n",
    "    n = p * q\n",
    "    f = (p - 1) * (q - 1)\n",
    "    assert math.gcd(f, e) == 1\n",
    "\n",
    "    d = cu.inverse(e, f)\n",
    "    return (e, n), (d, n)"
   ]
  },
  {
   "cell_type": "code",
   "execution_count": 3,
   "metadata": {},
   "outputs": [
    {
     "name": "stdout",
     "output_type": "stream",
     "text": [
      "Public key:\n",
      "(65537, 17650549415488090468064131346082687951654989528247683944540004134105985475744505696993392457169088689271680298365093294406787132860413604445614606947771506057980572297493427782892326781522755949895130031122631135339217875630306668147372050315862683044444935942958503240393222084282759305892417080045936747057851122040730548339811563929482339071986285910329062653883501845835636590985057384997953157771595623301672153682388202195892938964439615394713634104402882274795107724808965191816302721435651238266326569125566544625365654204497977285781051449052964833136305885101070243838700492312777233247296193807416220652717)\n",
      "\n",
      "Private key:\n",
      "(3624534141532855051638114037193963935690874606270615538178729200860557433702634506769261267506623671822303026616986214750851293681972722105514158113784715939519699436649015839940261742614603194740202632998891768304853657784650916885535393032193722453150738482389116630441002530025441731215956620889851789705065065450530317312771966512122974716807634089551332091708147011196525826020332945272018962258798956837424610515806106103386705428225153300910269374177601925736412316493413188954990897232910375855710955727190254691552235226625989602962433923775196870463721160209051806025563850395857561179546368279389958257017, 17650549415488090468064131346082687951654989528247683944540004134105985475744505696993392457169088689271680298365093294406787132860413604445614606947771506057980572297493427782892326781522755949895130031122631135339217875630306668147372050315862683044444935942958503240393222084282759305892417080045936747057851122040730548339811563929482339071986285910329062653883501845835636590985057384997953157771595623301672153682388202195892938964439615394713634104402882274795107724808965191816302721435651238266326569125566544625365654204497977285781051449052964833136305885101070243838700492312777233247296193807416220652717)\n"
     ]
    }
   ],
   "source": [
    "(e, n), (d, n) = generate_key()\n",
    "\n",
    "print('Public key:')\n",
    "print((e, n))\n",
    "\n",
    "print('\\nPrivate key:')\n",
    "print((d, n))"
   ]
  },
  {
   "cell_type": "markdown",
   "metadata": {
    "id": "wae-whoNGlz_"
   },
   "source": [
    "## Naiwne szyfrowanie i deszyfrowanie"
   ]
  },
  {
   "cell_type": "markdown",
   "metadata": {
    "id": "fESNrzCYNVfy"
   },
   "source": [
    "\n",
    "Naiwny algorytm szyfrowania wiadomości **M** z wykorzystaniem RSA:\n",
    "\n",
    "1) Zakoduj $M$ jako liczbę.\n",
    "\n",
    "2) Oblicz: $C = M^e$ mod $n$."
   ]
  },
  {
   "cell_type": "markdown",
   "metadata": {
    "id": "FQvVgWWrHBX2"
   },
   "source": [
    "Naiwny algorytm deszyfrowania kryptogramu **C** z wykorzystaniem RSA:\n",
    "\n",
    "1) $M = C^d$ mod $n$.\n",
    "\n",
    "2) Zdekoduj wiadomość $M$ do jej pierwotnej postaci (np. stringa). \n"
   ]
  },
  {
   "cell_type": "markdown",
   "metadata": {
    "id": "mFRFP0BsHc9l"
   },
   "source": [
    "**Zadanie 3**\n",
    "\n",
    "Napisz metody szyfrujące i deszyfrujące wiadomość $M$ zgodnie z powyższym algorytmem. Zaszyfruj wiadomość, zdeszyfruj i wypisz oryginalny tekst na ekranie. Odpowiedz na pytanie: jaki warunek musi spełniać liczbowa reprezentacja wiadomości $M$, aby można ją było poprawnie zaszyfrować i zdeszyfrować?"
   ]
  },
  {
   "cell_type": "code",
   "execution_count": 4,
   "metadata": {
    "id": "N3y7NMf_HkuB"
   },
   "outputs": [
    {
     "name": "stdout",
     "output_type": "stream",
     "text": [
      "Ala ma kota\n"
     ]
    }
   ],
   "source": [
    "M = \"Ala ma kota\"\n",
    "M = cu.bytes_to_long(M.encode())\n",
    "\n",
    "C = pow(M, e, n)\n",
    "M = pow(C, d, n)\n",
    "\n",
    "M = cu.long_to_bytes(M).decode(\"utf-8\")\n",
    "print(M)"
   ]
  },
  {
   "cell_type": "markdown",
   "metadata": {
    "id": "NjF8Fr_dN0s6"
   },
   "source": [
    "## Naiwny schemat podpisu cyfrowego"
   ]
  },
  {
   "cell_type": "markdown",
   "metadata": {
    "id": "AsvkSf9zN4i8"
   },
   "source": [
    "Naiwna metoda tworzenia podpisu z wiadmości $M$:\n",
    "\n",
    "1) Oblicz $h = H(M)$. H to uzgodniona funkcja skrótu, niech to będzie SHA-256.\n",
    "\n",
    "2) Zakoduj $h$ jako liczbę.\n",
    "\n",
    "3) Oblicz $SIG = h^d$ mod $n$.\n",
    "\n",
    "4) Wyślij parę $(M, SIG)$ weryfikującemu."
   ]
  },
  {
   "cell_type": "markdown",
   "metadata": {
    "id": "xcMiT4DhOoOt"
   },
   "source": [
    "Naiwna metoda weryfikacji podpisu $(M, SIG)$:\n",
    "\n",
    "1) Oblicz $h = H(M)$. H to uzgodniona funkcja skrótu, niech to będzie SHA-256.\n",
    "\n",
    "2) Zakoduj $h$ jako liczbę.\n",
    "\n",
    "3) Oblicz $VER = SIG^e$ mod $n$.\n",
    "\n",
    "4) Jeżeli $VER = h$, weryfikacja przebiegła pomyślnie, a w przeciwnym razie niepomyślnie."
   ]
  },
  {
   "cell_type": "markdown",
   "metadata": {
    "id": "Jx86zFg6PDDs"
   },
   "source": [
    "**Zadanie 4**\n",
    "\n",
    "Zaimplementuj naiwną metodę tworzenia i weryfikowania podpisu cyfrowego RSA."
   ]
  },
  {
   "cell_type": "code",
   "execution_count": 5,
   "metadata": {
    "id": "Y7OSfmf0PJ2Q"
   },
   "outputs": [
    {
     "name": "stdout",
     "output_type": "stream",
     "text": [
      "True\n"
     ]
    }
   ],
   "source": [
    "hlen = 256 // 8\n",
    "\n",
    "h = hl.sha256(M.encode())\n",
    "h = cu.bytes_to_long(h.digest())\n",
    "\n",
    "SIG = pow(h, d, n)\n",
    "VER = pow(SIG, e, n)\n",
    "\n",
    "print(VER == h)"
   ]
  },
  {
   "cell_type": "markdown",
   "metadata": {
    "id": "-6MsXDuaIj2C"
   },
   "source": [
    "## MGF 1\n",
    "\n",
    "W dalszej części laboratoriów będziemy potrzebowali generować maskę. Jedynym zatwierdzonym algorytmem który do tego służy jest *Mask Generation Function 1*, opisany w [RFC 8017](https://www.rfc-editor.org/rfc/rfc8017). Jest on stosunkowo prosty. "
   ]
  },
  {
   "cell_type": "markdown",
   "metadata": {
    "id": "wXuwYrpsJzkU"
   },
   "source": [
    "Parametry wejściowe:\n",
    "\n",
    "1) M - bajty wiadomości.\n",
    "\n",
    "2) len - pożądana długość zwórconej maski w bajtach.\n",
    "\n",
    "3) H - wybrana funkcja skrótu, zwracająca $n$ bitowy skrót. Niech to będzie SHA-256. Dla wygody przyjmijmy też, że $hlen = n / 8$ oznacza liczbę bajtów zwracaną przez naszą funkcję skrótu.\n",
    "\n",
    "Wyjściem funkcji są bajty tworzące maskę."
   ]
  },
  {
   "cell_type": "markdown",
   "metadata": {
    "id": "oriQJLCvJ0vM"
   },
   "source": [
    "Algorytm MGF-1:\n",
    "\n",
    "1) Dla 32-biotwego integera $i = 0, ..., ⌈ \\frac{len}{hlen}⌉ - 1$ wykonuj kroki 2 i 3.\n",
    "\n",
    "2) Oblicz tmp = H(M || i). Znak || to konkatenacja i chodzi tu o bajty wiadomości M oraz reprezentację w bajtach 32-bitowego itegera $i$.\n",
    "\n",
    "3) Oblicz output = output || tmp.\n",
    "\n",
    "4) Zwróc $len$ wiodących bajtów zmiennej output."
   ]
  },
  {
   "cell_type": "markdown",
   "metadata": {
    "id": "o-AkA1mHK7cp"
   },
   "source": [
    "**Zadanie 5**\n",
    "\n",
    "Zaprogramuj i przetestuj dla dowolnych wartości funkcję MGF1."
   ]
  },
  {
   "cell_type": "code",
   "execution_count": 6,
   "metadata": {
    "id": "rrBuKJWZLCV9"
   },
   "outputs": [],
   "source": [
    "def mgf1(M, mlen):\n",
    "    mask = bytes()\n",
    "    \n",
    "    for i in range(math.ceil(mlen / hlen)):\n",
    "        M += i.to_bytes(4, 'big')\n",
    "        mask += hl.sha256(M).digest()\n",
    "\n",
    "    return mask[:mlen]"
   ]
  },
  {
   "cell_type": "markdown",
   "metadata": {
    "id": "K3gM9vGyPtna"
   },
   "source": [
    "## OAEP\n",
    "\n",
    "Nasz schemat ma na ten moment jedną sporą wadę, mianowicie rozmiar szyfrowanej wiadomości może być zbyt mały, czyniąc algorytm mniej bezpiecznym. Aby tego uniknąć, używamy algorytmu paddingu opisanego w [RFC 8017](https://www.rfc-editor.org/rfc/rfc8017#section-8), który zwie się *Optimal Assymetric Encryption Padding*."
   ]
  },
  {
   "cell_type": "markdown",
   "metadata": {
    "id": "PFJW4wW5QjjH"
   },
   "source": [
    "### OAEP encoding"
   ]
  },
  {
   "cell_type": "markdown",
   "metadata": {
    "id": "0BTXF8j6Reel"
   },
   "source": [
    "Parametry wejściowe:\n",
    "\n",
    "1) $H$ - funkcja skrótu SHA-256, oraz $hlen$ czyli długość zwracanego skrótu w bajtach.\n",
    "\n",
    "2) $k$ - długość liczby $n$ wyrażona w bajtach.\n",
    "\n",
    "3) $mlen$ - długość wiadomości wyrażona w bajtach.\n",
    "\n",
    "4) $M$ - bajty wiadomości.\n",
    "\n",
    "5) $mgf1$ - Mask Generation Function 1."
   ]
  },
  {
   "cell_type": "markdown",
   "metadata": {
    "id": "YWse9bSFRfmu"
   },
   "source": [
    "Algorytm:\n",
    "\n",
    "1) Jeżeli $mlen > k - 2*hlen - 2$ zwróc błąd.\n",
    "\n",
    "2) Oblicz: $lHash = H(\"\")$.\n",
    "\n",
    "3) Wygeneruj tablicę bajtów $PS$ składającą się z $k - mlen - 2*hlen - 2$ bajtów o wartości 0x00. Rozmiar $PS$ może wynosić 0.\n",
    "\n",
    "4) Oblicz: $DB = lHash || PS || 0x01 || M$. Długość $DB$ powinna wynosić $k - hlen - 1$ bajtów.\n",
    "\n",
    "5) Wygeneruj losową tablicę bajtów $seed$ o rozmiarze $hlen$.\n",
    "\n",
    "6) Oblicz: $dbMask = mgf1(seed, k - hlen - 1)$.\n",
    "\n",
    "7) Oblicz: $maskedDB = DB ⊕ dbMask$.\n",
    "\n",
    "8) Oblicz: $seedMask = mgf1(maskedDB, hlen)$.\n",
    "\n",
    "9) Oblicz: $maskedSeed = seed ⊕ seedMask$.\n",
    "\n",
    "10) Oblicz: $EM = 0x00 || maskedSeed || maskedDB$. Długość $EM$ powinna wynosić $k$.\n",
    "\n",
    "11) Zwróc $EM$."
   ]
  },
  {
   "cell_type": "markdown",
   "metadata": {
    "id": "lwJfZ28SUeKC"
   },
   "source": [
    "### OAEP decoding"
   ]
  },
  {
   "cell_type": "markdown",
   "metadata": {
    "id": "i21JfT9TUlXN"
   },
   "source": [
    "Parametry wejściowe:\n",
    "\n",
    "1) $H$ - funkcja skrótu SHA-256, oraz $hlen$ czyli długość zwracanego skrótu w bajtach.\n",
    "\n",
    "2) $k$ - rozmiar EM wyrażony w bajtach.\n",
    "\n",
    "3) $mgf1$ - Mask Generation Function 1.\n",
    "\n",
    "4) $EM$ - bajty zakodowanej wiadomości."
   ]
  },
  {
   "cell_type": "markdown",
   "metadata": {
    "id": "Toe-FHBzU1n-"
   },
   "source": [
    "Algorytm:\n",
    "\n",
    "1) Rozpakuj tablicę bajtów $EM$. Jej pierwszy bajt (najbardziej znaczący) przypisz do $Y$. Kolejne $hlen$ bajtów przypisz do $maskedSeed$, resztę do $maskedDB$. Czyli $EM = Y || maskedSeed || maskedDB$.\n",
    "\n",
    "2) Oblicz: $lHash = H(\"\")$.\n",
    "\n",
    "3) Oblicz: $seedMask = mgf1(maskedDB, hlen)$.\n",
    "\n",
    "4) Oblicz: $seed = maskedSeed ⊕ seedMask$.\n",
    "\n",
    "5) Oblicz: $dbMask = mgf1(seed, k - hlen - 1)$.\n",
    "\n",
    "6) Oblicz: $DB = maskedDB ⊕ dbMask$.\n",
    "\n",
    "7) Rozpkauj tablicę bakjtów $DB$. Pierwsze (najbardziej znaczące) $hlen$ bajtów przypisz do zmiennej $lHash'$. Następne $k - mlen - 2*hlen - 2$ bajtów do PS. Kolejny pojedynczy bajt powinien wynosić 0x01, jeżeli jest inaczej zwróć błąd i **zakończ działanie**. Resztę bajtów przypsiz do zmiennej $M$. Czyli: $DB = lHash' || PS || 0x01 || M$. \n",
    "\n",
    "8) Jeżeli $Y \\neq 0x00$ zwróć błąd i **zakończ działanie**.\n",
    "\n",
    "9) Jeżeli $lHash \\neq lHash'$ zwróć błąd i **zakończ działanie**.\n",
    "\n",
    "10) Zwróc $M$."
   ]
  },
  {
   "cell_type": "markdown",
   "metadata": {
    "id": "A0yx2wepX4n1"
   },
   "source": [
    "**Zadanie 6**\n",
    "\n",
    "Zaproogramuj kodowanie i dekodowanie OAEP. Zmodyfikuj algorytm szyfrowania RSA, tak, aby przed zaszyfrowaniem wiadomość była paddingowana. Zmodyfikuj algorytm deszyfrowania tak, aby po zdeszyfrowaniu konieczne było wywołanie metody dekodowania OAEP w celu odzyskania wiadomości."
   ]
  },
  {
   "cell_type": "code",
   "execution_count": 7,
   "metadata": {
    "id": "sA1oCpziYT6z"
   },
   "outputs": [],
   "source": [
    "def xor_bytes(a, b):\n",
    "    return bytes([x ^ y for x, y in zip(a, b)])\n",
    "\n",
    "\n",
    "def oaep_encode(M, k):\n",
    "    mlen = len(M)\n",
    "    \n",
    "    if mlen > k - 2 * hlen - 2:\n",
    "        raise Exception()\n",
    "        \n",
    "    l_hash = hl.sha256(b'').digest()\n",
    "    ps = (0x00).to_bytes(1, 'big') * (k - mlen - 2 * hlen - 2)\n",
    "    seed = cu.long_to_bytes(cu.getRandomInteger(hlen * 8))\n",
    "\n",
    "    db = l_hash + ps + (0x01).to_bytes(1, 'big') + M\n",
    "    db_mask = mgf1(seed, k - hlen - 1)\n",
    "    masked_db = xor_bytes(db, db_mask)\n",
    "\n",
    "    seed_mask = mgf1(masked_db, hlen)\n",
    "    masked_seed = xor_bytes(seed, seed_mask)\n",
    "\n",
    "    return (0x00).to_bytes(1, 'big') + masked_seed + masked_db\n",
    "\n",
    "\n",
    "def oaep_decode(EM, k, mlen):\n",
    "    y, masked_seed, masked_db = EM[0], EM[1:hlen + 1], EM[hlen + 1:]\n",
    "    l_hash = hl.sha256(b'').digest()\n",
    "    \n",
    "    seed_mask = mgf1(masked_db, hlen)\n",
    "    seed = xor_bytes(masked_seed, seed_mask)\n",
    "\n",
    "    db_mask = mgf1(seed, k - hlen - 1)\n",
    "    db = xor_bytes(masked_db, db_mask)\n",
    "\n",
    "    pos = [hlen, k - mlen - 2 * hlen - 2, 1]\n",
    "    pos[1] = sum(pos[:2])\n",
    "    pos[2] = sum(pos[1:3])\n",
    "    \n",
    "    l_hash_p, ps, z, M = db[:pos[0]], db[pos[0]:pos[1]], db[pos[1]:pos[2]], db[pos[2]:]\n",
    "\n",
    "    if cu.bytes_to_long(z) != 1:\n",
    "        raise Exception()\n",
    "\n",
    "    if y != 0:\n",
    "        raise Exception()\n",
    "        \n",
    "    if l_hash != l_hash_p:\n",
    "        raise Exception()\n",
    "        \n",
    "    return M"
   ]
  },
  {
   "cell_type": "markdown",
   "metadata": {
    "id": "ug2e_I03YoR1"
   },
   "source": [
    "## EMSA - PSS\n",
    "\n",
    "Utworzenie bezpiecznej sygnatury RSA wymaga zastowania algorytmu *Encoding Method for Signature with Appendix - Probabilistic Signature Scheme* ."
   ]
  },
  {
   "cell_type": "markdown",
   "metadata": {
    "id": "KrWpFTRHZSA7"
   },
   "source": [
    "### EMSA encoding"
   ]
  },
  {
   "cell_type": "markdown",
   "metadata": {
    "id": "bNPN9mqIZT5F"
   },
   "source": [
    "Parametry wejściowe:\n",
    "\n",
    "1) $H$ - funkcja skrótu SHA-256, oraz $hlen$ czyli długość zwracanego skrótu w bajtach.\n",
    "\n",
    "2) $slen$ - długość soli w bajtach, powinna być równa $hlen$.\n",
    "\n",
    "3) $M$ - bajty wiadomości do podpisania.\n",
    "\n",
    "4) $mgf1$ - Mask Generation Function 1.\n",
    "\n",
    "5) $emBits$ - pożądana długość sygnatury w bitach. Jest to najczęściej długość bitowa liczby modulus $n$ pomniejszona o jeden, czyli w naszym przypadku 2047.\n",
    "\n",
    "6) $emlen$ - długość sygnatury w bajtach, równa długości parametru $n$ wyrażonego w bajtach.\n"
   ]
  },
  {
   "cell_type": "markdown",
   "metadata": {
    "id": "6-0Vzuzf_f81"
   },
   "source": [
    "Algorytm:\n",
    "\n",
    "1) Oblicz: $mHash = H(M)$.\n",
    "\n",
    "2) Jeżeli $emlen < hlen + slen + 2$ **zakończ i zwróć błąd**.\n",
    "\n",
    "3) Wygeneruj tablicę losowych bajtów $salt$ o długości $slen$.\n",
    "\n",
    "4) Oblicz: $M' = 0x00 00 00 00 00 00 00 00 || mHash || salt$. Długość $M'$ to $8 + hlen + slen$.\n",
    "\n",
    "5) Oblicz: $mHash' = H(M')$.\n",
    "\n",
    "6) Wygeneruj tablicę $PS$ składającą się z bajtów 0x00 o długości $emlen - slen - hlen - 2$.\n",
    "\n",
    "7) Oblicz: $DB = PS || 0x01 || salt$. Długość $DB$ powinna wynosić $emlen - hlen - 1$ bajtów.\n",
    "\n",
    "8) Oblicz: $dbMask = mgf1(mHash', emlen - hlen - 1)$.\n",
    "\n",
    "9) Oblicz: $maskedDB = DB ⊕ dbMask$.\n",
    "\n",
    "10) Ustaw $8 * emlen - emBits$ **najbardziej znaczących** bitów $maskedDB$ na wartości 0.\n",
    "\n",
    "11) Oblicz: $EM = maskedDB || mHash' || 0xbc$.\n",
    "\n",
    "12) Zwróć $EM$.\n"
   ]
  },
  {
   "cell_type": "markdown",
   "metadata": {
    "id": "HWbbbw1DCGpr"
   },
   "source": [
    "## EMSA decoding"
   ]
  },
  {
   "cell_type": "markdown",
   "metadata": {
    "id": "xR6QyzduCIoc"
   },
   "source": [
    "Parametry wejściowe:\n",
    "\n",
    "1) $H$ - funkcja skrótu SHA-256, oraz $hlen$ czyli długość zwracanego skrótu w bajtach.\n",
    "\n",
    "2) $slen$ - długość soli w bajtach, powinna być równa $hlen$.\n",
    "\n",
    "3) $EM$ - sygnatura wiadomości $M$.\n",
    "\n",
    "4) $M$ - bajty wiadomości do weryfikacji.\n",
    "\n",
    "4) $mgf1$ - Mask Generation Function 1.\n",
    "\n",
    "5) $emBits$ - długość sygnatury w bitach. Jest to najczęściej długość bitowa liczby modulus $n$ pomniejszona o jeden, czyli w naszym przypadku 2047.\n",
    "\n",
    "6) $emlen$ - długość sygnatury w bajtach, równa długości parametru $n$ wyrażonego w bajtach."
   ]
  },
  {
   "cell_type": "markdown",
   "metadata": {
    "id": "MqZUQgT6CspI"
   },
   "source": [
    "Algorytm:\n",
    "\n",
    "1) Oblicz: $mHash = H(M)$.\n",
    "\n",
    "2) Jeżeli $emlen < hlen + slen + 2$ **zakończ i zwróć błąd weryfikacji**.\n",
    "\n",
    "3) Jeżeli ostatni bajt (najmniej znaczący) $EM$ nie ma wartości 0xbc **zakończ i zwróć błąd weryfikacji**.\n",
    "\n",
    "4) Podstaw $emlen - hlen - 1$ najbardziej znaczących bajtów do $maskedDB$ oraz kolejne $hlen$ bajtów do $mHash'$.\n",
    "\n",
    "5) Jeżeli $8 * emlen - emBits$ najbardziej znaczących bitów $maskedDB$ nie ma wartości 0, **zakończ i zwróć błąd weryfikacji**.\n",
    "\n",
    "6) Oblicz: $dbMask = mgf1(mHash', emlen - hlen - 1)$.\n",
    "\n",
    "7) Oblicz: $DB = maskedDB ⊕ dbMask$.\n",
    "\n",
    "8) Ustaw $8 * emlen - emBits$ najbardziej znaczących bitów $DB$ na 0.\n",
    "\n",
    "9) Jeżeli $emlen - hlen - slen - 2$ najbardziej znaczących bajtów $DB$ nie posiada wartości 0x00 lub gdy bajt na pozycji $emlen - hlen - slen - 1$ (licząc od najbardziej znaczącego) nie posiada wartości 0x01 **zakończ i zwróć błąd weryfikacji**.\n",
    "\n",
    "10) Przypisz do zmiennej $salt$ dokładnie $slen$ najmniej znaczących bajtów $DB$.\n",
    "\n",
    "11) Oblicz: $M' = 0x00 00 00 00 00 00 00 00 || mHash || salt$. Długość $M'$ to $8 + hlen + slen$.\n",
    "\n",
    "12) Oblicz $mHash'' = H(M')$.\n",
    "\n",
    "13) Jeżeli $mHash' \\neq mHash''$ **zakończ i zwróć błąd weryfikacji**, w przeciwnym razie **weryfikacja powiodła się**.\n"
   ]
  },
  {
   "cell_type": "markdown",
   "metadata": {
    "id": "wrxJHSkyIvz5"
   },
   "source": [
    "**Zadanie 7**\n",
    "\n",
    "Zaprogramuj kodowanie i dekodowanie EMSA, a następnie popraw algorytmy tworzenia i weryfikacji podpisu cyfrowego RSA. Tworzenie podpisu powinno wyglądać tak, że wiadomość najpierw jest kodowana z wykorzystaniem EMSA, a później tworzony jest popdis z wykorzystaniem klucza prywatnego. Dekodowanie powinno wyglądać tak, że najpierw używany jest klucz publiczny do odtworzenia podpisu EMSA, a następnie wykorzystywane jest dekodowanie EMSA w celu weryfikacji."
   ]
  },
  {
   "cell_type": "code",
   "execution_count": 8,
   "metadata": {
    "id": "S-TbQA4NJrl3"
   },
   "outputs": [],
   "source": [
    "m = \"Ala ma podpis\"\n",
    "\n",
    "slen = hlen\n",
    "em_bits = 2047\n",
    "em_len = len(cu.long_to_bytes(n))  # 2048 // 8\n",
    "\n",
    "\n",
    "def emsa_encode(M):\n",
    "    m_hash = hl.sha256(M).digest()\n",
    "\n",
    "    if em_len < hlen + slen + 2:\n",
    "        raise Exception()\n",
    "\n",
    "    salt = cu.long_to_bytes(cu.getRandomNBitInteger(slen * 8))\n",
    "    M_p = (0x00).to_bytes(8, 'big') + m_hash + salt\n",
    "    m_hash_p = hl.sha256(M_p).digest()\n",
    "    ps = (0x00).to_bytes((em_len - slen - hlen - 2), 'big')\n",
    "\n",
    "    db = ps + (0x01).to_bytes(1, 'big') + salt\n",
    "    db_mask = mgf1(m_hash_p, em_len - hlen - 1)\n",
    "    masked_db = xor_bytes(db, db_mask)\n",
    "    masked_db = cu.long_to_bytes(masked_db[0] & 0b01111111) + masked_db[1:]\n",
    "\n",
    "    EM = masked_db + m_hash_p + (0xbc).to_bytes(1, 'big')\n",
    "    return EM\n",
    "\n",
    "\n",
    "def emsa_decode(EM, M):\n",
    "    m_hash = hl.sha256(M).digest()\n",
    "    \n",
    "    if em_len < hlen + slen + 2:\n",
    "        raise Exception()\n",
    "        \n",
    "    if EM[-1]!= 0xbc:\n",
    "        raise Exception()\n",
    "        \n",
    "    masked_db, m_hash_p = EM[:em_len - hlen - 1], EM[em_len - hlen - 1:em_len - 1]\n",
    "\n",
    "    if masked_db[0] & 0b10000000 != 0:\n",
    "        raise Exception()\n",
    "        \n",
    "    db_mask = mgf1(m_hash_p, em_len - hlen - 1)\n",
    "    db = xor_bytes(masked_db, db_mask)\n",
    "    db = cu.long_to_bytes(db[0] & 0b01111111) + db[1:]\n",
    "\n",
    "    if cu.bytes_to_long(db[:em_len - hlen - slen - 2]) != 0 or db[em_len - hlen - slen - 2] != 1:\n",
    "        raise Exception()\n",
    "\n",
    "    salt = db[-slen:]\n",
    "    M_p = (0x00).to_bytes(8, 'big') + m_hash + salt\n",
    "    m_hash_pp = hl.sha256(M_p).digest()\n",
    "    \n",
    "    if m_hash_p != m_hash_pp:\n",
    "        raise Exception()\n",
    "        \n",
    "    return True"
   ]
  },
  {
   "cell_type": "code",
   "execution_count": 9,
   "metadata": {},
   "outputs": [
    {
     "data": {
      "text/plain": "True"
     },
     "execution_count": 9,
     "metadata": {},
     "output_type": "execute_result"
    }
   ],
   "source": [
    "EM = emsa_encode(M.encode())\n",
    "emsa_decode(EM, M.encode())"
   ]
  },
  {
   "cell_type": "markdown",
   "metadata": {
    "id": "d7txLS64JZI-"
   },
   "source": [
    "## RSA - KEM\n",
    "\n",
    "RSA - KEM, czyli z ang. *Key Encapsulation Mechanism* to prosty algorytm dedykowany do wymiany klucza symetrycznego. Obie strony dysponują uzgodnioną funkcją skótu H. Instancja, która chce **otrzymać** tajny klucz do komunikacji symetrycznej generuje klucze RSA i udostępnia swój klucz publiczny. Instancja, która chce wygenerować tajny klucz do komunikacji symetrycznej dysponuje kluczem publicznym instancji, która chce go otrzymać."
   ]
  },
  {
   "cell_type": "markdown",
   "metadata": {
    "id": "tl7cu30PJ1lk"
   },
   "source": [
    "Instancja generująca klucz symetryczny:\n",
    "\n",
    "1) Znajdź losową liczbę $RAND$ spełniającą warunki OAEP.\n",
    "\n",
    "2) Oblicz: $KEY = H(RAND)$. Jeżeli trzeba, przytnij $KEY$ do odpowiedniej długości.\n",
    "\n",
    "3) Oblicz: $CIPHERED\\_KEY = RSA\\_OAEP\\_ENCODING(KEY, (e, n))$.\n",
    "\n",
    "4) Wyślij $CIPHERED\\_KEY$."
   ]
  },
  {
   "cell_type": "markdown",
   "metadata": {
    "id": "oFB9JAwULw70"
   },
   "source": [
    "Instancja otrzymująca zaszyfrowany klucz symetryczny:\n",
    "\n",
    "1) Oblicz: $KEY = RSA\\_OAEP\\_DECODING(CIPHERED\\_KEY, (d, n))$\n",
    "\n",
    "2) Jeżeli trzeba przytnij $KEY$ do odpowiedniej długości."
   ]
  },
  {
   "cell_type": "markdown",
   "metadata": {
    "id": "386c_pDZMSRG"
   },
   "source": [
    "Np. AES występuje w wersji 128b, 192b i 256b. Jeżeli jako H przyjmiemy więc SHA-256, nie trzeba przycinać klucza dla algorytmu AES-256. W przeciwnym razie należy klucz odpowiednio przyciąć (z lewej lub prawej, byle obie strony tak samo) i to ta wartość staje się kluczem symetrycznym."
   ]
  },
  {
   "cell_type": "markdown",
   "metadata": {
    "id": "7N66NPBBMpLS"
   },
   "source": [
    "**Zadanie 8**\n",
    "\n",
    "Zasymuluj takową wymianę (bez przycinania klucza)."
   ]
  },
  {
   "cell_type": "code",
   "execution_count": 10,
   "metadata": {
    "id": "Td_Qg2zlMuRt"
   },
   "outputs": [
    {
     "name": "stdout",
     "output_type": "stream",
     "text": [
      "K: 8f1f73f0cf2df330bdb2b207302052cca6da0b2b9f999ae09714090d84f291b9\n",
      "\n",
      "C: 69c87df9497e987d60a6bc0acd63ee1673671d7b93fbadf060816715834ad206e2376b592c2efa04db73a4a1a66de226a5c6eea74d7e9740002d4224f541ca25125026adec54fff0f8109eee853615db7d536623b7be9fb6efcbdc85620755e0b114aa2b4bdd3193f1760115a2cc2f08840e3842feff87ac391eea76e1af897c95f5b2066c7676f24682d9d3671323b961c226cc09c12e98ce2cd797aad736d2d812264ca2a700c8c0144d7ee0205367ff2d0d88d00544cdd4ce08daccc4e7aabfa40f78eb3ce6da1c65fb8a03afec8ad3c559a6850b68cc2667233967840e528c7c976207dd31fde0f4f4730fcbf686b95a37dbec66a80b141af36b0bc0b183\n",
      "\n",
      "K: 8f1f73f0cf2df330bdb2b207302052cca6da0b2b9f999ae09714090d84f291b9\n"
     ]
    }
   ],
   "source": [
    "rand = cu.long_to_bytes(cu.getRandomNBitInteger(2048))\n",
    "key = hl.sha256(rand).digest()\n",
    "print(f'K: {key.hex()}\\n')\n",
    "\n",
    "key = oaep_encode(key, 2048 // 8)\n",
    "key = cu.bytes_to_long(key)\n",
    "ciphered_key = pow(key, e, n)\n",
    "print(f'C: {cu.long_to_bytes(ciphered_key).hex()}\\n')\n",
    "\n",
    "key = pow(ciphered_key, d, n)\n",
    "key = key.to_bytes(2048 // 8, 'big')\n",
    "key = oaep_decode(key, 2048 // 8, 256 // 8)\n",
    "print(f'K: {key.hex()}')"
   ]
  }
 ],
 "metadata": {
  "colab": {
   "provenance": []
  },
  "kernelspec": {
   "display_name": "Python 3 (ipykernel)",
   "language": "python",
   "name": "python3"
  },
  "language_info": {
   "codemirror_mode": {
    "name": "ipython",
    "version": 3
   },
   "file_extension": ".py",
   "mimetype": "text/x-python",
   "name": "python",
   "nbconvert_exporter": "python",
   "pygments_lexer": "ipython3",
   "version": "3.9.6"
  }
 },
 "nbformat": 4,
 "nbformat_minor": 4
}
